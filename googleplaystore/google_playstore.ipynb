{
 "cells": [
  {
   "cell_type": "code",
   "execution_count": 349,
   "metadata": {},
   "outputs": [],
   "source": [
    "from selenium import webdriver\n",
    "from selenium.webdriver.common.by import By\n",
    "import pandas as pd"
   ]
  },
  {
   "cell_type": "code",
   "execution_count": 350,
   "metadata": {},
   "outputs": [
    {
     "name": "stderr",
     "output_type": "stream",
     "text": [
      "c:\\Users\\kisan\\anaconda3\\envs\\test\\lib\\site-packages\\ipykernel_launcher.py:5: DeprecationWarning: executable_path has been deprecated, please pass in a Service object\n",
      "  \"\"\"\n"
     ]
    }
   ],
   "source": [
    "options = webdriver.ChromeOptions()\n",
    "options.add_argument('--headless') # Head-less 설정, 브라우저를 열지 않음\n",
    "options.add_argument('--no-sandbox')\n",
    "options.add_argument('--disable-dev-shm-usage')\n",
    "driver = webdriver.Chrome('C:\\\\PROJECT\\\\crawler\\\\driver\\\\chromedriver', options=options)\n",
    "driver.get(url=\"https://play.google.com/store/apps\")"
   ]
  },
  {
   "cell_type": "code",
   "execution_count": 351,
   "metadata": {},
   "outputs": [],
   "source": [
    "import random\n",
    "\n",
    "COUNT = 100\n",
    "RESULT =[]\n",
    "pre_link = \"https://play.google.com/store/apps/details?id=\"\n",
    "\n",
    "\n",
    "links = driver.find_elements(By.XPATH,'//a[contains(@href,\"/store/apps/details?id=\")]')\n",
    "for i,_ in enumerate(links):\n",
    "    links[i] = links[i].get_attribute('href')\n",
    "links = list(set(links))"
   ]
  },
  {
   "cell_type": "code",
   "execution_count": 352,
   "metadata": {},
   "outputs": [
    {
     "name": "stdout",
     "output_type": "stream",
     "text": [
      "83\n",
      "103 2 3\n"
     ]
    }
   ],
   "source": [
    "seq =[]\n",
    "\n",
    "cnt = 0\n",
    "cnt_init = len(links)\n",
    "\n",
    "print(len(links))\n",
    "\n",
    "for link in links:\n",
    "    try:\n",
    "        cnt+=1\n",
    "        if cnt_init==cnt:\n",
    "            print(\"[*]you can break it loop\")\n",
    "        driver.get(url=link)\n",
    "        \n",
    "        #Download 수 파악\n",
    "        cnt_down = driver.find_elements(By.XPATH,'//div[text()=\"Downloads\"]')\n",
    "        target = cnt_down[0].find_elements(By.XPATH,\"..\")\n",
    "        \n",
    "        #수집\n",
    "        tmp = driver.find_elements(By.XPATH,'//a[contains(@href,\"/store/apps/details?id=\")]')\n",
    "        for i,_ in enumerate(tmp):\n",
    "            tmp[i] = tmp[i].get_attribute('href')\n",
    "        for j in tmp:\n",
    "            if j not in links:\n",
    "                links.append(j)\n",
    "        \n",
    "        seq.append(target[0].text.split(\"\\n\")[0])\n",
    "    except:\n",
    "        break\n",
    "    \n",
    "    \n",
    "print(len(links),len(seq),cnt)\n",
    "    "
   ]
  },
  {
   "cell_type": "code",
   "execution_count": 353,
   "metadata": {},
   "outputs": [],
   "source": [
    "df = {\n",
    "    'package_name':[],\n",
    "    'cnt_download':[],\n",
    "}\n",
    "\n",
    "for i,_ in enumerate(seq):\n",
    "    df['package_name'].append(links[i].split(\"?id=\")[1])\n",
    "    df['cnt_download'].append(seq[i])  "
   ]
  },
  {
   "cell_type": "code",
   "execution_count": 354,
   "metadata": {},
   "outputs": [],
   "source": [
    "\n",
    "df = pd.DataFrame.from_dict(df)\n",
    "df.to_csv(\"./wow.csv\",index=None)"
   ]
  },
  {
   "cell_type": "code",
   "execution_count": null,
   "metadata": {},
   "outputs": [],
   "source": []
  }
 ],
 "metadata": {
  "kernelspec": {
   "display_name": "Python 3.7.13 ('test')",
   "language": "python",
   "name": "python3"
  },
  "language_info": {
   "codemirror_mode": {
    "name": "ipython",
    "version": 3
   },
   "file_extension": ".py",
   "mimetype": "text/x-python",
   "name": "python",
   "nbconvert_exporter": "python",
   "pygments_lexer": "ipython3",
   "version": "3.7.13"
  },
  "orig_nbformat": 4,
  "vscode": {
   "interpreter": {
    "hash": "a1dc1fd9a7c4e6d92c1a4ff65d1d8ee75ed61028f1fbe72f86e40e11d0005a9b"
   }
  }
 },
 "nbformat": 4,
 "nbformat_minor": 2
}
